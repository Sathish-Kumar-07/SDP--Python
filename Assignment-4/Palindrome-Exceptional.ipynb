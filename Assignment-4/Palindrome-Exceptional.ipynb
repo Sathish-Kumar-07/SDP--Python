{
 "cells": [
  {
   "cell_type": "code",
   "execution_count": 6,
   "metadata": {},
   "outputs": [
    {
     "name": "stdout",
     "output_type": "stream",
     "text": [
      "Enter The Number=1221\n",
      "1221 Is A Palindrome\n"
     ]
    }
   ],
   "source": [
    "Num=(input(\"Enter The Number=\"))\n",
    "try:\n",
    "    val=int(Num)\n",
    "    Rev=\"\"\n",
    "    for i in Num:\n",
    "        Rev=i+Rev\n",
    "    if Num==Rev:\n",
    "        print(Num,\"Is A Palindrome\")\n",
    "    else:\n",
    "        print(Num,\"Is Not A Palindrome\")\n",
    "except ValueError:\n",
    "    print(\"Invalid Input\")"
   ]
  }
 ],
 "metadata": {
  "kernelspec": {
   "display_name": "Python 3",
   "language": "python",
   "name": "python3"
  },
  "language_info": {
   "codemirror_mode": {
    "name": "ipython",
    "version": 3
   },
   "file_extension": ".py",
   "mimetype": "text/x-python",
   "name": "python",
   "nbconvert_exporter": "python",
   "pygments_lexer": "ipython3",
   "version": "3.8.3"
  }
 },
 "nbformat": 4,
 "nbformat_minor": 4
}
