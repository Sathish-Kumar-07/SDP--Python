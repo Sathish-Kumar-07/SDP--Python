{
 "cells": [
  {
   "cell_type": "code",
   "execution_count": 17,
   "metadata": {},
   "outputs": [
    {
     "name": "stdout",
     "output_type": "stream",
     "text": [
      "Enter Nth Number=8\n",
      "Sum Of 8 Natural Numbers Is 204\n"
     ]
    }
   ],
   "source": [
    "def Sum_Square(Num):\n",
    "    Sum=0\n",
    "    for i in range(1,Num+1):\n",
    "        Sum+=(i*i)\n",
    "    return Sum\n",
    "Num=int(input(\"Enter Nth Number=\"))\n",
    "print(\"Sum Of\",Num,\"Natural Numbers Is\",Sum_Square(Num));"
   ]
  },
  {
   "cell_type": "code",
   "execution_count": null,
   "metadata": {},
   "outputs": [],
   "source": []
  }
 ],
 "metadata": {
  "kernelspec": {
   "display_name": "Python 3",
   "language": "python",
   "name": "python3"
  },
  "language_info": {
   "codemirror_mode": {
    "name": "ipython",
    "version": 3
   },
   "file_extension": ".py",
   "mimetype": "text/x-python",
   "name": "python",
   "nbconvert_exporter": "python",
   "pygments_lexer": "ipython3",
   "version": "3.8.3"
  }
 },
 "nbformat": 4,
 "nbformat_minor": 4
}
