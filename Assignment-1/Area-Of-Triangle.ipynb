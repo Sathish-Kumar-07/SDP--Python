{
 "cells": [
  {
   "cell_type": "code",
   "execution_count": 1,
   "metadata": {},
   "outputs": [
    {
     "name": "stdout",
     "output_type": "stream",
     "text": [
      "Enter The Breadth Of The Triangle=4\n",
      "Enter The Height Of The Triangle=6.4\n",
      "Area Of The Triangle Is 12.8\n"
     ]
    }
   ],
   "source": [
    "A=float(input(\"Enter The Breadth Of The Triangle=\"))\n",
    "B=float(input(\"Enter The Height Of The Triangle=\"))\n",
    "Area=(A*B)/2;\n",
    "print(\"Area Of The Triangle Is\",Area)"
   ]
  },
  {
   "cell_type": "code",
   "execution_count": null,
   "metadata": {},
   "outputs": [],
   "source": []
  }
 ],
 "metadata": {
  "kernelspec": {
   "display_name": "Python 3",
   "language": "python",
   "name": "python3"
  },
  "language_info": {
   "codemirror_mode": {
    "name": "ipython",
    "version": 3
   },
   "file_extension": ".py",
   "mimetype": "text/x-python",
   "name": "python",
   "nbconvert_exporter": "python",
   "pygments_lexer": "ipython3",
   "version": "3.8.3"
  }
 },
 "nbformat": 4,
 "nbformat_minor": 4
}
