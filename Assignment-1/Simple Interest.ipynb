{
 "cells": [
  {
   "cell_type": "code",
   "execution_count": 2,
   "metadata": {},
   "outputs": [
    {
     "name": "stdout",
     "output_type": "stream",
     "text": [
      "Enter The Principal Amount=10000\n",
      "Enter The Time Period=3\n",
      "Enter The Rate Of Interest=7\n",
      "Simple Interest Is 2100.0\n"
     ]
    }
   ],
   "source": [
    "p=float(input(\"Enter The Principal Amount=\"))\n",
    "t=float(input(\"Enter The Time Period=\"))\n",
    "r=float(input(\"Enter The Rate Of Interest=\"))\n",
    "si=(p*t*r)/100\n",
    "print(\"Simple Interest Is\",si)"
   ]
  },
  {
   "cell_type": "code",
   "execution_count": null,
   "metadata": {},
   "outputs": [],
   "source": []
  }
 ],
 "metadata": {
  "kernelspec": {
   "display_name": "Python 3",
   "language": "python",
   "name": "python3"
  },
  "language_info": {
   "codemirror_mode": {
    "name": "ipython",
    "version": 3
   },
   "file_extension": ".py",
   "mimetype": "text/x-python",
   "name": "python",
   "nbconvert_exporter": "python",
   "pygments_lexer": "ipython3",
   "version": "3.8.3"
  }
 },
 "nbformat": 4,
 "nbformat_minor": 4
}
