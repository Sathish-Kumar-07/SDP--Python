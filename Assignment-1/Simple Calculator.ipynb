{
 "cells": [
  {
   "cell_type": "code",
   "execution_count": 2,
   "metadata": {},
   "outputs": [
    {
     "name": "stdout",
     "output_type": "stream",
     "text": [
      "Enter The Value For x= 6\n",
      "Enter The Value For y= 4\n",
      "Addition Of 6 and 4 is 10\n",
      "Subtraction of 6 and 4 is 2\n",
      "Multiplication of 6 and 4 is 24\n",
      "Division of  6 by 4 is 1.5\n",
      "Modulus of  6 and 4 is 2\n",
      "Exponent of  6 to the power of  4 is 1296\n",
      "Floor Division of  6 by 4 is  1\n"
     ]
    }
   ],
   "source": [
    "x=int(input(\"Enter The Value For x= \"))\n",
    "y=int(input(\"Enter The Value For y= \"))\n",
    "#Addition\n",
    "print(\"Addition Of\",x,\"and\",y,\"is\",x+y)\n",
    "#Subtraction\n",
    "print(\"Subtraction of\",x,\"and\",y,\"is\",x-y)\n",
    "#Multiplication\n",
    "print(\"Multiplication of\",x,\"and\",y,\"is\",x*y)\n",
    "#Division\n",
    "print(\"Division of \",x,\"by\",y,\"is\",x/y)\n",
    "#modulus\n",
    "print(\"Modulus of \",x,\"and\",y,\"is\",x%y)\n",
    "#Exponent\n",
    "print(\"Exponent of \",x,\"to the power of \",y,\"is\",x**y)\n",
    "#Floor Division\n",
    "print(\"Floor Division of \",x,\"by\",y,\"is \",x//y)"
   ]
  },
  {
   "cell_type": "code",
   "execution_count": null,
   "metadata": {},
   "outputs": [],
   "source": []
  }
 ],
 "metadata": {
  "kernelspec": {
   "display_name": "Python 3",
   "language": "python",
   "name": "python3"
  },
  "language_info": {
   "codemirror_mode": {
    "name": "ipython",
    "version": 3
   },
   "file_extension": ".py",
   "mimetype": "text/x-python",
   "name": "python",
   "nbconvert_exporter": "python",
   "pygments_lexer": "ipython3",
   "version": "3.8.3"
  }
 },
 "nbformat": 4,
 "nbformat_minor": 4
}
