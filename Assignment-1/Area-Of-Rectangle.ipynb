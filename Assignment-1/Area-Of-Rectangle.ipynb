{
 "cells": [
  {
   "cell_type": "code",
   "execution_count": 1,
   "metadata": {},
   "outputs": [
    {
     "name": "stdout",
     "output_type": "stream",
     "text": [
      "Enter The Length Of The Rectangle=12\n",
      "Enter The Width Of The Rectangle=3.7\n",
      "Area Of The Rectangle= 44.400000000000006\n"
     ]
    }
   ],
   "source": [
    "L=float(input(\"Enter The Length Of The Rectangle=\"))\n",
    "W=float(input(\"Enter The Width Of The Rectangle=\"))\n",
    "Area=L*W\n",
    "print(\"Area Of The Rectangle=\",Area)"
   ]
  },
  {
   "cell_type": "code",
   "execution_count": null,
   "metadata": {},
   "outputs": [],
   "source": []
  }
 ],
 "metadata": {
  "kernelspec": {
   "display_name": "Python 3",
   "language": "python",
   "name": "python3"
  },
  "language_info": {
   "codemirror_mode": {
    "name": "ipython",
    "version": 3
   },
   "file_extension": ".py",
   "mimetype": "text/x-python",
   "name": "python",
   "nbconvert_exporter": "python",
   "pygments_lexer": "ipython3",
   "version": "3.8.3"
  }
 },
 "nbformat": 4,
 "nbformat_minor": 4
}
