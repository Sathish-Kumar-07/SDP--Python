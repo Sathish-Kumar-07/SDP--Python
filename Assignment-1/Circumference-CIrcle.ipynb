{
 "cells": [
  {
   "cell_type": "code",
   "execution_count": 1,
   "metadata": {},
   "outputs": [
    {
     "name": "stdout",
     "output_type": "stream",
     "text": [
      "Enter The Radius Of The Circle=37\n",
      "Circumference Of The Circle is 232.57142857142856\n"
     ]
    }
   ],
   "source": [
    "r=float(input(\"Enter The Radius Of The Circle=\"))\n",
    "Circum=2*(22/7)*r\n",
    "print(\"Circumference Of The Circle is\",Circum)"
   ]
  },
  {
   "cell_type": "code",
   "execution_count": null,
   "metadata": {},
   "outputs": [],
   "source": []
  }
 ],
 "metadata": {
  "kernelspec": {
   "display_name": "Python 3",
   "language": "python",
   "name": "python3"
  },
  "language_info": {
   "codemirror_mode": {
    "name": "ipython",
    "version": 3
   },
   "file_extension": ".py",
   "mimetype": "text/x-python",
   "name": "python",
   "nbconvert_exporter": "python",
   "pygments_lexer": "ipython3",
   "version": "3.8.3"
  }
 },
 "nbformat": 4,
 "nbformat_minor": 4
}
