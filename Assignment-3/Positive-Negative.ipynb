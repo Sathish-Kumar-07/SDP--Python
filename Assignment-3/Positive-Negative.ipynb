{
 "cells": [
  {
   "cell_type": "code",
   "execution_count": 1,
   "metadata": {},
   "outputs": [
    {
     "name": "stdout",
     "output_type": "stream",
     "text": [
      "Enter The Number: -1.1\n",
      "-1.1 Is A Negative Number\n"
     ]
    }
   ],
   "source": [
    "Num=float(input(\"Enter The Number: \"))\n",
    "if Num>=0:\n",
    "    print(Num,\"Is A Positive Number\")\n",
    "else:\n",
    "    print(Num,\"Is A Negative Number\")"
   ]
  },
  {
   "cell_type": "code",
   "execution_count": null,
   "metadata": {},
   "outputs": [],
   "source": []
  }
 ],
 "metadata": {
  "kernelspec": {
   "display_name": "Python 3",
   "language": "python",
   "name": "python3"
  },
  "language_info": {
   "codemirror_mode": {
    "name": "ipython",
    "version": 3
   },
   "file_extension": ".py",
   "mimetype": "text/x-python",
   "name": "python",
   "nbconvert_exporter": "python",
   "pygments_lexer": "ipython3",
   "version": "3.8.3"
  }
 },
 "nbformat": 4,
 "nbformat_minor": 4
}
