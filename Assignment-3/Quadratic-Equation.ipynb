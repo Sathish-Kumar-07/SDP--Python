{
 "cells": [
  {
   "cell_type": "code",
   "execution_count": 13,
   "metadata": {},
   "outputs": [
    {
     "name": "stdout",
     "output_type": "stream",
     "text": [
      "Enter The Value Of a=-1\n",
      "Enter The Value Of b=-8\n",
      "Enter The Value Of c=2\n",
      "The Roots Are Different x1= -8.242640687119284  x2= 0.24264068711928477\n"
     ]
    }
   ],
   "source": [
    "#Quadratic Equation\n",
    "import math\n",
    "a=int(input(\"Enter The Value Of a=\"))\n",
    "b=int(input(\"Enter The Value Of b=\"))\n",
    "c=int(input(\"Enter The Value Of c=\"))\n",
    "if(a!=0):\n",
    "    d=b*b-4*a*c\n",
    "    if d==0:\n",
    "        x1,x2=-b/(2*a),-b/(2*a)\n",
    "        print(\"The Roots Are Real x1=\",x1,\" x2=\",x2)\n",
    "    elif d>0:\n",
    "        x1,x2=(-b+math.sqrt(d))/(2*a),(-b -math.sqrt(d))/(2*a)\n",
    "        print(\"The Roots Are Different x1=\",x1,\" x2=\",x2)\n",
    "    else:\n",
    "        print(\"The Roots Are Imaginary\")\n",
    "else:\n",
    "    print(\"Its A Linear Equation\")"
   ]
  }
 ],
 "metadata": {
  "kernelspec": {
   "display_name": "Python 3",
   "language": "python",
   "name": "python3"
  },
  "language_info": {
   "codemirror_mode": {
    "name": "ipython",
    "version": 3
   },
   "file_extension": ".py",
   "mimetype": "text/x-python",
   "name": "python",
   "nbconvert_exporter": "python",
   "pygments_lexer": "ipython3",
   "version": "3.8.3"
  }
 },
 "nbformat": 4,
 "nbformat_minor": 4
}
