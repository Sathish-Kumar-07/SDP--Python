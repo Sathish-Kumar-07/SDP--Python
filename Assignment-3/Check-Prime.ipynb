{
 "cells": [
  {
   "cell_type": "code",
   "execution_count": 6,
   "metadata": {},
   "outputs": [
    {
     "name": "stdout",
     "output_type": "stream",
     "text": [
      "Enter The Number=8\n",
      "8 Is Not A Prime Number\n"
     ]
    }
   ],
   "source": [
    "Num=int(input(\"Enter The Number=\"))\n",
    "if Num>1:\n",
    "    for i in range(2,Num):\n",
    "        if(Num%i==0):\n",
    "            print(Num,\"Is Not A Prime Number\")\n",
    "            break\n",
    "    else:\n",
    "        print(Num,\"Is A Prime Number\")\n",
    "else:\n",
    "    print(Num,\"Is Not A Prime Number\")"
   ]
  }
 ],
 "metadata": {
  "kernelspec": {
   "display_name": "Python 3",
   "language": "python",
   "name": "python3"
  },
  "language_info": {
   "codemirror_mode": {
    "name": "ipython",
    "version": 3
   },
   "file_extension": ".py",
   "mimetype": "text/x-python",
   "name": "python",
   "nbconvert_exporter": "python",
   "pygments_lexer": "ipython3",
   "version": "3.8.3"
  }
 },
 "nbformat": 4,
 "nbformat_minor": 4
}
