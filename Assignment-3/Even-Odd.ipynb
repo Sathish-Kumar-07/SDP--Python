{
 "cells": [
  {
   "cell_type": "code",
   "execution_count": 1,
   "metadata": {},
   "outputs": [
    {
     "name": "stdout",
     "output_type": "stream",
     "text": [
      "Enter the number23\n",
      "23 is a odd number\n"
     ]
    }
   ],
   "source": [
    "#Check Whether Given Number is Even Or Odd\n",
    "Num=int(input(\"Enter the number\"))\n",
    "if Num%2==0:\n",
    "    print(Num,\"is a even number\")\n",
    "else:\n",
    "    print(Num,\"is a odd number\")"
   ]
  },
  {
   "cell_type": "code",
   "execution_count": null,
   "metadata": {},
   "outputs": [],
   "source": []
  }
 ],
 "metadata": {
  "kernelspec": {
   "display_name": "Python 3",
   "language": "python",
   "name": "python3"
  },
  "language_info": {
   "codemirror_mode": {
    "name": "ipython",
    "version": 3
   },
   "file_extension": ".py",
   "mimetype": "text/x-python",
   "name": "python",
   "nbconvert_exporter": "python",
   "pygments_lexer": "ipython3",
   "version": "3.8.3"
  }
 },
 "nbformat": 4,
 "nbformat_minor": 4
}
