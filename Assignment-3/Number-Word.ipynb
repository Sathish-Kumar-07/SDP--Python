{
 "cells": [
  {
   "cell_type": "code",
   "execution_count": 6,
   "metadata": {},
   "outputs": [
    {
     "name": "stdout",
     "output_type": "stream",
     "text": [
      "Enter A Number Between 1-5=4\n",
      "four\n"
     ]
    }
   ],
   "source": [
    "Num=int(input(\"Enter A Number Between 1-5=\"))\n",
    "if (Num<=5 and Num>0):\n",
    "    if Num==1:\n",
    "        print(\"One\")\n",
    "    elif Num==2:\n",
    "        print(\"Two\")\n",
    "    elif Num==3:\n",
    "        print(\"Three\")\n",
    "    elif Num==4:\n",
    "        print(\"four\")\n",
    "    elif Num==5:\n",
    "        print(\"Five\")\n",
    "else:\n",
    "    print(\"Entered Number Is Not In Between 1-5\")"
   ]
  },
  {
   "cell_type": "code",
   "execution_count": null,
   "metadata": {},
   "outputs": [],
   "source": []
  },
  {
   "cell_type": "code",
   "execution_count": null,
   "metadata": {},
   "outputs": [],
   "source": []
  }
 ],
 "metadata": {
  "kernelspec": {
   "display_name": "Python 3",
   "language": "python",
   "name": "python3"
  },
  "language_info": {
   "codemirror_mode": {
    "name": "ipython",
    "version": 3
   },
   "file_extension": ".py",
   "mimetype": "text/x-python",
   "name": "python",
   "nbconvert_exporter": "python",
   "pygments_lexer": "ipython3",
   "version": "3.8.3"
  }
 },
 "nbformat": 4,
 "nbformat_minor": 4
}
