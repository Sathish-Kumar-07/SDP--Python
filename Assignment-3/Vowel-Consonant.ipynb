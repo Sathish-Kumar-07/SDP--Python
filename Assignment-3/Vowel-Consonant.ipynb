{
 "cells": [
  {
   "cell_type": "code",
   "execution_count": 2,
   "metadata": {},
   "outputs": [
    {
     "name": "stdout",
     "output_type": "stream",
     "text": [
      "Enter The Character=e\n",
      "e Is A Vowel\n"
     ]
    }
   ],
   "source": [
    "char=(input(\"Enter The Character=\"))\n",
    "if (char=='a')or(char=='i')or(char=='e')or(char=='u')or(char=='o'):\n",
    "    print(char,\"Is A Vowel\")\n",
    "else:\n",
    "    print(char,\"Is A Consonant\")"
   ]
  },
  {
   "cell_type": "code",
   "execution_count": null,
   "metadata": {},
   "outputs": [],
   "source": []
  }
 ],
 "metadata": {
  "kernelspec": {
   "display_name": "Python 3",
   "language": "python",
   "name": "python3"
  },
  "language_info": {
   "codemirror_mode": {
    "name": "ipython",
    "version": 3
   },
   "file_extension": ".py",
   "mimetype": "text/x-python",
   "name": "python",
   "nbconvert_exporter": "python",
   "pygments_lexer": "ipython3",
   "version": "3.8.3"
  }
 },
 "nbformat": 4,
 "nbformat_minor": 4
}
