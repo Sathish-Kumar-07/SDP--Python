{
 "cells": [
  {
   "cell_type": "code",
   "execution_count": 4,
   "metadata": {},
   "outputs": [
    {
     "name": "stdout",
     "output_type": "stream",
     "text": [
      "{1: 'Happy', 2: 'Birthday', 3: 'To', 4: 'You', 5: 'May', 6: 'God', 7: 'Bless', 8: 'You'}\n"
     ]
    }
   ],
   "source": [
    "dict1={1:\"Happy\",2:\"Birthday\",3:\"To\",4:\"You\"}\n",
    "dict2={5:\"May\",6:\"God\",7:\"Bless\",8:\"You\"}\n",
    "dict3=dict()\n",
    "for i in dict1,dict2:\n",
    "    dict3.update(i)\n",
    "print(dict3)"
   ]
  },
  {
   "cell_type": "code",
   "execution_count": null,
   "metadata": {},
   "outputs": [],
   "source": []
  }
 ],
 "metadata": {
  "kernelspec": {
   "display_name": "Python 3",
   "language": "python",
   "name": "python3"
  },
  "language_info": {
   "codemirror_mode": {
    "name": "ipython",
    "version": 3
   },
   "file_extension": ".py",
   "mimetype": "text/x-python",
   "name": "python",
   "nbconvert_exporter": "python",
   "pygments_lexer": "ipython3",
   "version": "3.8.3"
  }
 },
 "nbformat": 4,
 "nbformat_minor": 4
}
